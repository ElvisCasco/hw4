{
 "cells": [
  {
   "cell_type": "code",
   "execution_count": 8,
   "id": "0607c9d4",
   "metadata": {},
   "outputs": [
    {
     "data": {
      "text/plain": [
       "<bound method DataFrame.info of       Unnamed: 0  encounter_id  hospital_id   age        bmi  \\\n",
       "0              0        214826          118  68.0  22.732803   \n",
       "1              1        246060           81  77.0  27.421875   \n",
       "2              2        276985          118  25.0  31.952749   \n",
       "3              3        262220          118  81.0  22.635548   \n",
       "4              4        201746           33  19.0        NaN   \n",
       "...          ...           ...          ...   ...        ...   \n",
       "9995        9995        167042          140   NaN  51.952814   \n",
       "9996        9996        165009           89  34.0  26.110113   \n",
       "9997        9997        234052          137  30.0  23.774241   \n",
       "9998        9998        249290           89  67.0  31.330708   \n",
       "9999        9999        151312           89  55.0  44.343663   \n",
       "\n",
       "      elective_surgery        ethnicity gender  height hospital_admit_source  \\\n",
       "0                    0        Caucasian      M  180.30                 Floor   \n",
       "1                    0        Caucasian      F  160.00                 Floor   \n",
       "2                    0        Caucasian      F  172.70  Emergency Department   \n",
       "3                    1        Caucasian      F  165.10        Operating Room   \n",
       "4                    0        Caucasian      M  188.00                   NaN   \n",
       "...                ...              ...    ...     ...                   ...   \n",
       "9995                 0        Caucasian      F  137.20                 Floor   \n",
       "9996                 0        Caucasian      F  175.26  Emergency Department   \n",
       "9997                 0  Native American      F  157.48  Emergency Department   \n",
       "9998                 0        Caucasian      F  157.48          Direct Admit   \n",
       "9999                 0        Caucasian      F  157.50  Emergency Department   \n",
       "\n",
       "      ... ventilated_apache  wbc_apache aids cirrhosis  hepatic_failure  \\\n",
       "0     ...                 0        14.1    0         0                0   \n",
       "1     ...                 1        12.7    0         0                0   \n",
       "2     ...                 0         NaN    0         0                0   \n",
       "3     ...                 1         8.0    0         0                0   \n",
       "4     ...                 0         NaN    0         0                0   \n",
       "...   ...               ...         ...  ...       ...              ...   \n",
       "9995  ...                 0         7.0    0         0                0   \n",
       "9996  ...                 0         9.5    0         0                0   \n",
       "9997  ...                 0         NaN    0         0                0   \n",
       "9998  ...                 0         6.4    0         0                0   \n",
       "9999  ...                 1         NaN    0         0                0   \n",
       "\n",
       "      immunosuppression  leukemia  lymphoma  solid_tumor_with_metastasis  \\\n",
       "0                     0         0         0                            0   \n",
       "1                     0         0         0                            0   \n",
       "2                     0         0         0                            0   \n",
       "3                     0         0         0                            0   \n",
       "4                     0         0         0                            0   \n",
       "...                 ...       ...       ...                          ...   \n",
       "9995                  0         0         0                            0   \n",
       "9996                  0         0         0                            0   \n",
       "9997                  0         0         0                            0   \n",
       "9998                  0         0         0                            0   \n",
       "9999                  0         0         0                            0   \n",
       "\n",
       "      diabetes_mellitus  \n",
       "0                     1  \n",
       "1                     1  \n",
       "2                     0  \n",
       "3                     0  \n",
       "4                     0  \n",
       "...                 ...  \n",
       "9995                  0  \n",
       "9996                  0  \n",
       "9997                  0  \n",
       "9998                  0  \n",
       "9999                  0  \n",
       "\n",
       "[10000 rows x 53 columns]>"
      ]
     },
     "execution_count": 8,
     "metadata": {},
     "output_type": "execute_result"
    }
   ],
   "source": [
    "#a. Load the data\n",
    "import pandas as pd\n",
    "data = pd.read_csv(\"sample_diabetes_mellitus_data.csv\")\n",
    "data.info\n"
   ]
  },
  {
   "cell_type": "code",
   "execution_count": null,
   "id": "8936d0c3",
   "metadata": {},
   "outputs": [],
   "source": [
    "#b. Split the data between train and test\n",
    "\n",
    "from sklearn.model_selection import train_test_split\n",
    "train, test = train_test_split(data, test_size=0.2, random_state=42)\n"
   ]
  },
  {
   "cell_type": "code",
   "execution_count": 10,
   "id": "5ee7511f",
   "metadata": {},
   "outputs": [],
   "source": [
    "#c.Remove those rows that contain NaN values in the columns: age, gender, ethnicity.\n",
    "\n",
    "train = train.dropna(subset=['age', 'gender', 'ethnicity'])\n"
   ]
  }
 ],
 "metadata": {
  "kernelspec": {
   "display_name": "base",
   "language": "python",
   "name": "python3"
  },
  "language_info": {
   "codemirror_mode": {
    "name": "ipython",
    "version": 3
   },
   "file_extension": ".py",
   "mimetype": "text/x-python",
   "name": "python",
   "nbconvert_exporter": "python",
   "pygments_lexer": "ipython3",
   "version": "3.13.5"
  }
 },
 "nbformat": 4,
 "nbformat_minor": 5
}
